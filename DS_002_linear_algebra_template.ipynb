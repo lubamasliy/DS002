{
  "nbformat": 4,
  "nbformat_minor": 0,
  "metadata": {
    "colab": {
      "name": "DS_002_linear_algebra_template.ipynb",
      "provenance": [],
      "collapsed_sections": [],
      "include_colab_link": true
    },
    "kernelspec": {
      "name": "python3",
      "display_name": "Python 3"
    },
    "language_info": {
      "name": "python"
    }
  },
  "cells": [
    {
      "cell_type": "markdown",
      "metadata": {
        "id": "view-in-github",
        "colab_type": "text"
      },
      "source": [
        "<a href=\"https://colab.research.google.com/github/lubamasliy/DS002/blob/main/DS_002_linear_algebra_template.ipynb\" target=\"_parent\"><img src=\"https://colab.research.google.com/assets/colab-badge.svg\" alt=\"Open In Colab\"/></a>"
      ]
    },
    {
      "cell_type": "markdown",
      "source": [
        "# Template for linear_algebra.py\n",
        "\n",
        "This template contains function declarations and a handful of assert tests for `linear_algebra.py`. Edit the return statements in each function until they pass each assertion. Refer to Chapter 4 from \"Data Science from Scratch\" for help."
      ],
      "metadata": {
        "id": "aKL2tZu_h0nw"
      }
    },
    {
      "cell_type": "code",
      "execution_count": null,
      "metadata": {
        "id": "hoDb_ysGPj9T"
      },
      "outputs": [],
      "source": [
        "from typing import List\n",
        "\n",
        "Vector = List[float]\n",
        "\n",
        "def add(v: Vector, w: Vector) -> Vector:\n",
        "    \"\"\"Adds corresponding elements\"\"\"\n",
        "    assert len(v) == len(w), \"vectors must be the same length\"\n",
        "    return [v_i + w_i for v_i, w_i in zip(v, w)]\n",
        "\n",
        "\n",
        "def subtract(v: Vector, w: Vector) -> Vector:\n",
        "    \"\"\"Subtracts corresponding elements\"\"\"\n",
        "    assert len(v) == len(w), \"vectors must be the same length\"\n",
        "\n",
        "    return [v_i - w_i for v_i, w_i in zip(v, w)]\n",
        "\n",
        "\n",
        "def vector_sum(vectors: List[Vector]) -> Vector:\n",
        "    \"\"\"Sums all corresponding elements\"\"\"\n",
        "    # Check that vectors is not empty\n",
        "    assert vectors, \"no vectors provided!\"\n",
        "\n",
        "    # Check the vectors are all the same size\n",
        "    num_elements = len(vectors[0])\n",
        "    assert all(len(v) == num_elements for v in vectors), \"different sizes!\"\n",
        "\n",
        "    # the i-th element of the result is the sum of every vector[i]\n",
        "    return [sum(vector[i] for vector in vectors)\n",
        "            for i in range(num_elements)]\n",
        "\n",
        "\n",
        "def scalar_multiply(c: float, v: Vector) -> Vector:\n",
        "    \"\"\"Multiplies every element by c\"\"\"\n",
        "    # Like add() and subtract() \n",
        "    return [c * v_i for v_i in v]\n",
        "\n",
        "\n",
        "def vector_mean(vectors: List[Vector]) -> Vector:\n",
        "    \"\"\"Computes the element-wise average\"\"\"\n",
        "    n = len(vectors)\n",
        "    return scalar_multiply(1/n, vector_sum(vectors))\n",
        "\n",
        "\n",
        "def dot(v: Vector, w: Vector) -> float:\n",
        "    \"\"\"Computes v_1 * w_1 + ... + v_n * w_n\"\"\"\n",
        "    assert len(v) == len(w), \"vectors must be same length\"\n",
        "\n",
        "    return sum(v_i * w_i for v_i, w_i in zip(v, w))\n",
        "\n",
        "\n",
        "def sum_of_squares(v: Vector) -> float:\n",
        "    \"\"\"Returns v_1 * v_1 + ... + v_n * v_n\"\"\"\n",
        "    return dot(v, v)\n",
        "\n",
        "\n",
        "import math\n",
        "\n",
        "def magnitude(v: Vector) -> float:\n",
        "    \"\"\"Returns the magnitude (or length) of v\"\"\"\n",
        "    return math.sqrt(sum_of_squares(v))   # math.sqrt is square root function\n",
        "\n",
        "\n",
        "def squared_distance(v: Vector, w: Vector) -> float:\n",
        "    \"\"\"Computes (v_1 - w_1) ** 2 + ... + (v_n - w_n) ** 2\"\"\"\n",
        "    return sum_of_squares(subtract(v, w))\n",
        "\n",
        "# def distance(v: Vector, w: Vector) -> float:\n",
        "#     \"\"\"Computes the distance between v and w\"\"\"\n",
        "#     return math.sqrt(squared_distance(v, w))\n",
        "\n",
        "# This is possibly clearer if we write it as (the equivalent):\n",
        "def distance(v: Vector, w: Vector) -> float:  # type: ignore\n",
        "    return magnitude(subtract(v, w))\n",
        "\n",
        "\n"
      ]
    },
    {
      "cell_type": "code",
      "source": [
        "assert add([1, 2, 3], [10,9,8]) == [11,11,11], \"something's wrong with add()\"\n",
        "assert subtract([11,11,11], [1, 2, 3]) == [10,9,8], \"trouble with subtract()\"\n",
        "assert vector_sum([[3,4], [5,6], [7,8]]) == [15, 18], \"vector_sum() problem\"\n",
        "assert vector_mean([[1, 2], [3, 4], [5, 6]]) == [3, 4], \"oopsie vector_mean()\"\n",
        "assert dot([1, 2, 3], [4, 5, 6]) == 32, \"dot() issue\"  # 1 * 4 + 2 * 5 + 3 * 6\n",
        "assert sum_of_squares([1, 2, 3]) == 14, \"sum_of_squares() fail\"  # 1 * 1 + 2 * 2 + 3 * 3\n",
        "assert magnitude([3, 4]) == 5, \"issue with magnitude()\"\n"
      ],
      "metadata": {
        "id": "Ty_MCAq6P2an"
      },
      "execution_count": null,
      "outputs": []
    },
    {
      "cell_type": "markdown",
      "source": [
        "# Matrices\n",
        "A matrix is a two-dimensional collection of numbers. We will represent matrices as lists of lists, with each inner list having the same size and representing a row of the matrix. If A is a matrix, then A[i][j] is the element in the ith row and the jth column. Per mathematical convention, we will frequently use capital letters to represent matri‐ ces. \n",
        "\n",
        "For example:"
      ],
      "metadata": {
        "id": "cW0H4AWYti1A"
      }
    },
    {
      "cell_type": "code",
      "source": [
        "# Another type alias\n",
        "Matrix = List[List[float]]\n",
        "\n",
        "A = [[1, 2, 3], # A has 2 rows and 3 columns\n",
        "    [4, 5, 6]]\n",
        "\"\"\n",
        "B = [[1, 2], # B has 3 rows and 2 columns\n",
        "     [3, 4],\n",
        "     [5, 6]]"
      ],
      "metadata": {
        "id": "7UJge4vsQeie"
      },
      "execution_count": null,
      "outputs": []
    },
    {
      "cell_type": "code",
      "source": [
        "from typing import Tuple\n",
        "\n",
        "def shape(A: Matrix) -> Tuple[int, int]:\n",
        "  \"\"\"Returns (# of rows of A, # of columns of A)\"\"\"\n",
        "  num_rows = len(A)\n",
        "  num_cols = len(A[0]) if A else 0 # number of elements in first row \n",
        "  return num_rows, num_cols\n",
        "\n",
        "assert shape([[1, 2, 3], [4, 5, 6]]) == (2, 3) # 2 rows, 3 columns"
      ],
      "metadata": {
        "id": "mosezW_8tvSX"
      },
      "execution_count": null,
      "outputs": []
    },
    {
      "cell_type": "code",
      "source": [
        "# If a matrix has n rows and k columns, we will refer to it as an n × k matrix. \n",
        "# We can (and sometimes will) think of each row of an n × k matrix as a vector \n",
        "# of length k, and each column as a vector of length n:\n",
        "\n",
        "def get_row(A: Matrix, i: int) -> Vector:\n",
        "  \"\"\"Returns the i-th row of A (as a Vector)\"\"\"\n",
        "  return A[i] # A[i] is already the ith row\n",
        "\n",
        "def get_column(A: Matrix, j: int) -> Vector: \n",
        "  \"\"\"Returns the j-th column of A (as a Vector)\"\"\" \n",
        "  return [A_i[j] for A_i in A] # jth element of row A_i\n",
        "  # for A_i in A] # for each row A_i"
      ],
      "metadata": {
        "id": "GXWqhTweuoj-"
      },
      "execution_count": null,
      "outputs": []
    },
    {
      "cell_type": "code",
      "source": [
        "\n",
        "from typing import Callable\n",
        "\n",
        "def make_matrix(num_rows: int, num_cols: int,\n",
        "                    entry_fn: Callable[[int, int], float]) -> Matrix:\n",
        "\"\"\"\n",
        "Returns a num_rows x num_cols matrix\n",
        "whose (i,j)-th entry is entry_fn(i, j)\n",
        "\"\"\"\n",
        "return [[entry_fn(i, j) # given i, create a list\n",
        "for j in range(num_cols)] # [entry_fn(i, 0), ... ] for i in range(num_rows)] # create one list for each i\n",
        " "
      ],
      "metadata": {
        "id": "sVWX7uDGvAS0"
      },
      "execution_count": null,
      "outputs": []
    },
    {
      "cell_type": "markdown",
      "source": [
        "A simulation to demonstrate that if you wait for two heads in a row, it takes 6 flips on average, while you wait for a heads then a tails, it takes 4 flips on average.\n",
        "\n",
        "https://www.codechef.com/wiki/tutorial-expectation\n",
        "https://jcbain.github.io/blog/coin-flip-probs/\n",
        "\n",
        "> The first is a function to simulate flipping a fair coin…\n",
        "\n",
        "> Then I need a function to flip the coin multiple times and to stop only when a certain sequence of sides were met. In other words, stop when two heads were flipped in a row. From this, I want the number of times it took to achieve this sequence to be returned.\n",
        "\n",
        "\n",
        "\n"
      ],
      "metadata": {
        "id": "6V2675EH0HzX"
      }
    },
    {
      "cell_type": "code",
      "source": [
        "import numpy as np\n",
        "\n",
        "def flip_coin():\n",
        "    \"\"\"Simulate flipping a coin.\n",
        "    \n",
        "    Returns\n",
        "    -------\n",
        "    str\n",
        "        \"H\" for heads/ \"T\" for tails.\n",
        "    \"\"\"\n",
        "    flip = np.random.binomial(1, .5, 1)\n",
        "    if flip[0] == 1:\n",
        "        side = \"H\"\n",
        "    else:\n",
        "        side = \"T\"\n",
        "    return side\n",
        "\n",
        "\n",
        "def flip_condition(stop_condition=['H', 'T'], print_opt=False):\n",
        "    \"\"\"Flip coin until flip pattern is met.\n",
        "    \n",
        "    Parameters\n",
        "    ----------\n",
        "    stop_condition: list\n",
        "        The sequence of flips to be matched before flipping stops.\n",
        "    \n",
        "    print_opt: bool\n",
        "        Option to print the sequence of flips.\n",
        "        \n",
        "    Returns\n",
        "    -------\n",
        "    int\n",
        "        The number of flips it took to match the pattern.\n",
        "    \"\"\"\n",
        "    flip_list = []\n",
        "    \n",
        "    current_index = 0\n",
        "    current_condition = None\n",
        "    while current_condition != stop_condition:\n",
        "        flip_list.append(flip_coin())\n",
        "        if len(flip_list) >= len(stop_condition):\n",
        "            current_condition = [flip_list[i] for i in range(current_index - len(stop_condition) +1 , current_index + 1)]\n",
        "        else:\n",
        "            pass\n",
        "        current_index +=1\n",
        "        \n",
        "    if print_opt:\n",
        "        print(flip_list)\n",
        "    return current_index "
      ],
      "metadata": {
        "id": "8YzLyvvPv76q"
      },
      "execution_count": null,
      "outputs": []
    },
    {
      "cell_type": "code",
      "source": [
        "mean_ht = np.mean([flip_condition(['H', 'T']) for i in range(10000)])\n",
        "mean_hh = np.mean([flip_condition(['H','H']) for i in range(10000)])\n",
        "\n",
        "print(\"Average # of flips to achieve heads and then heads again: {}\".format(mean_hh))\n",
        "print(\"Average # of flips to achieve heads and then tails: {}\".format(mean_ht))"
      ],
      "metadata": {
        "colab": {
          "base_uri": "https://localhost:8080/"
        },
        "id": "l5R_Mwj6xbo6",
        "outputId": "6ae0748f-bc00-4737-ddce-2e37037aa255"
      },
      "execution_count": null,
      "outputs": [
        {
          "output_type": "stream",
          "name": "stdout",
          "text": [
            "Average # of flips to achieve heads and then heads again: 6.0149\n",
            "Average # of flips to achieve heads and then tails: 4.018\n"
          ]
        }
      ]
    },
    {
      "cell_type": "code",
      "source": [
        "np.mean([flip_condition(['H', 'T', 'H']) for i in range(10000)])\n",
        "\n",
        "# 9.9231"
      ],
      "metadata": {
        "colab": {
          "base_uri": "https://localhost:8080/"
        },
        "id": "yIEcMINYxgck",
        "outputId": "7eb8543c-353e-435f-aa82-4c2a519b713e"
      },
      "execution_count": null,
      "outputs": [
        {
          "output_type": "execute_result",
          "data": {
            "text/plain": [
              "9.15"
            ]
          },
          "metadata": {},
          "execution_count": 18
        }
      ]
    },
    {
      "cell_type": "code",
      "source": [
        "np.mean([flip_condition(['H','H','H','H','H']) for i in range(10000)])"
      ],
      "metadata": {
        "colab": {
          "base_uri": "https://localhost:8080/"
        },
        "id": "AMDlIR9UyFYX",
        "outputId": "5c46488b-bcb8-4b9c-b5a6-3be583ccd7a9"
      },
      "execution_count": null,
      "outputs": [
        {
          "output_type": "execute_result",
          "data": {
            "text/plain": [
              "61.4089"
            ]
          },
          "metadata": {},
          "execution_count": 26
        }
      ]
    },
    {
      "cell_type": "code",
      "source": [
        "np.mean([flip_condition(['T','T','T']) for i in range(10000)])"
      ],
      "metadata": {
        "colab": {
          "base_uri": "https://localhost:8080/"
        },
        "id": "HIDYA9OAyQlD",
        "outputId": "497dfb20-4749-4239-c41a-0c1770e6fd4c"
      },
      "execution_count": null,
      "outputs": [
        {
          "output_type": "execute_result",
          "data": {
            "text/plain": [
              "13.9829"
            ]
          },
          "metadata": {},
          "execution_count": 31
        }
      ]
    },
    {
      "cell_type": "code",
      "source": [
        ""
      ],
      "metadata": {
        "id": "HH9TQInp3-sJ"
      },
      "execution_count": null,
      "outputs": []
    }
  ]
}